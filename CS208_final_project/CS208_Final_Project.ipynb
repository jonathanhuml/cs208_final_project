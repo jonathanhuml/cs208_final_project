{
 "cells": [
  {
   "cell_type": "code",
   "execution_count": 15,
   "id": "d5d58041",
   "metadata": {},
   "outputs": [],
   "source": [
    "import numpy as np\n",
    "from scipy.stats import poisson\n",
    "from sklearn.utils import resample\n",
    "import matplotlib.pyplot as plt\n",
    "\n",
    "def pan_private_uniformity(eps, data, k, alpha):\n",
    "    #k = 20\n",
    "    bins = np.linspace(0,1,k)\n",
    "    m_prime = poisson.rvs(mu=m, size=1)\n",
    "    #print('m_prime is: ' + str(m_prime))\n",
    "    data_poissoned = resample(data, replace=True, n_samples=m_prime.item())\n",
    "    \n",
    "    #add normal noise here if you want to test the non-uniform case\n",
    "    #normal_noise = np.random.normal(loc=0.0, scale=5.0, size = k-1)\n",
    "\n",
    "    histogram = np.random.laplace(loc=0.0, scale=1/eps, size = k-1)\n",
    "    histogram += np.histogram(a=data_poissoned,bins=bins)[0]\n",
    "    histogram += np.random.laplace(loc=0.0, scale=1/eps, size = k-1)\n",
    "    #histogram += normal_noise\n",
    "\n",
    "    z_prime = np.sum(((histogram - m/k)**2 - histogram) / (m/k))\n",
    "\n",
    "    \n",
    "    t_u = 1/100 * alpha**2 * m + 4*(k**2)/(eps**2 * m) + 24*np.sqrt(2) * (k**(3/2)) / (eps**2 * m)\n",
    "    t_u += 16*np.sqrt(2) * k /(eps*np.sqrt(m)) + 8*np.sqrt(2)*(k**(3/2)) / (eps*m)\n",
    "    \n",
    "    return z_prime, t_u"
   ]
  },
  {
   "cell_type": "markdown",
   "id": "26d427bc",
   "metadata": {},
   "source": [
    "As we note in the paper, the Laplaced chi-square statistic has huge variance! We can see below that even if we meet the required sample complexity, we aren't guaranteed to get a consistently \"good\" answer. Though the variance does seem to decay with larger n, even in log form, this may not be particularly useful for actual hypothesis testing. We may need even larger samples to begin to see consistency. \n",
    "\n",
    "Below, we test uniform data over a large number of experiments to see how many of these tests return \"uniform\" like they actually should. "
   ]
  },
  {
   "cell_type": "code",
   "execution_count": 26,
   "id": "5d36e113",
   "metadata": {},
   "outputs": [
    {
     "name": "stdout",
     "output_type": "stream",
     "text": [
      "0.094 of tests identified not-uniform data\n"
     ]
    }
   ],
   "source": [
    "np.random.seed(42)\n",
    "\n",
    "eps = 1\n",
    "m = 500 \n",
    "k = 20\n",
    "data = np.random.uniform(0,1,m)\n",
    "alpha = 2/3\n",
    "\n",
    "num_experiments = 1000\n",
    "count = 0\n",
    "for experiment in range(num_experiments):\n",
    "    z_prime, t_u = pan_private_uniformity(1, data=data, k=k, alpha=alpha)\n",
    "    #print(z_prime, t_u)\n",
    "    if z_prime > t_u:\n",
    "        count += 1\n",
    "    else:\n",
    "        pass\n",
    "print(str(count / num_experiments) + ' of tests identified not-uniform data')"
   ]
  },
  {
   "cell_type": "markdown",
   "id": "38ea9e0b",
   "metadata": {},
   "source": [
    "We can see from the fraction above that the tester seems to mostly identify the uniformity correctly, especially since we have so many samples. We also note that we are far above the theoretical sample complexity for actual privacy (500 >> 25). However, these two things are different in terms of actual utility. As we note in the paper, the variance scales differently for Laplace mechanisms than the sample complexity."
   ]
  },
  {
   "cell_type": "code",
   "execution_count": 17,
   "id": "fe4dfd55",
   "metadata": {},
   "outputs": [
    {
     "name": "stdout",
     "output_type": "stream",
     "text": [
      "24.25 samples for privacy\n"
     ]
    }
   ],
   "source": [
    "#sample complexity required for eps-DP\n",
    "print(str(np.round(k**(3/4)/ (alpha*eps) + np.sqrt(k)/alpha**2, 2)) + ' samples for privacy' )"
   ]
  },
  {
   "cell_type": "code",
   "execution_count": 18,
   "id": "a287b043",
   "metadata": {},
   "outputs": [],
   "source": [
    "variance_list = []\n",
    "num_experiments = 200\n",
    "for size in np.arange(10,1000,10):\n",
    "    z_prime_list = []\n",
    "    for experiment in range(num_experiments):\n",
    "        z_prime, t_u = pan_private_uniformity(1, data=np.random.uniform(0,1,size), k=k, alpha=alpha)\n",
    "        z_prime_list.append(z_prime)\n",
    "        \n",
    "    variance_list.append(np.var(z_prime_list))"
   ]
  },
  {
   "cell_type": "code",
   "execution_count": 19,
   "id": "ac5a3911",
   "metadata": {},
   "outputs": [
    {
     "data": {
      "text/plain": [
       "Text(0, 0.5, 'Log MSE')"
      ]
     },
     "execution_count": 19,
     "metadata": {},
     "output_type": "execute_result"
    },
    {
     "data": {
      "image/png": "[encoded data removed]",
      "text/plain": [
       "<Figure size 432x288 with 1 Axes>"
      ]
     },
     "metadata": {
      "needs_background": "light"
     },
     "output_type": "display_data"
    }
   ],
   "source": [
    "plt.plot(np.arange(10,1000,10), np.log(variance_list))\n",
    "plt.title('Variance of the Pan-Private Uniformity Tester Estimator')\n",
    "plt.xlabel('Sample size')\n",
    "plt.ylabel('Log MSE')"
   ]
  },
  {
   "cell_type": "markdown",
   "id": "b10f7198",
   "metadata": {},
   "source": [
    "For small sample sizes, the estimator variance is incredibly high compared to the threshold!"
   ]
  },
  {
   "cell_type": "markdown",
   "id": "5cc03873",
   "metadata": {},
   "source": [
    "### RAPPOR: Encode, Perturb, Aggregate"
   ]
  },
  {
   "cell_type": "code",
   "execution_count": 20,
   "id": "9f386ef5",
   "metadata": {},
   "outputs": [],
   "source": [
    "def locally_private_uniformity(eps, data, k, alpha):\n",
    "    #encode\n",
    "    bins = np.linspace(0,1,k)\n",
    "    k_ary_encodings = np.zeros((m, k-1))\n",
    "    for d in range(len(data)):\n",
    "        for b in range(len(bins)-1):\n",
    "            #print(b, b+1)\n",
    "            #print(bins[b], bins[b+1])\n",
    "            if (data[d] >= bins[b]) & (data[d] <= bins[b+1]):\n",
    "                k_ary_encodings[d, b] = 1\n",
    "            else:\n",
    "                pass\n",
    "    \n",
    "    #perturb\n",
    "    perturb_matrix = np.random.uniform(0,1,size=(m,k-1))\n",
    "    p_flip = 1 / (np.e**(eps/2)+1 )\n",
    "\n",
    "    for d in range(len(data)):\n",
    "        for b in range(len(bins)-1):\n",
    "            if perturb_matrix[d,b] < p_flip:\n",
    "                if k_ary_encodings[d,b] == 0:\n",
    "                    k_ary_encodings[d,b] = 1\n",
    "                elif k_ary_encodings[d,b] == 1:\n",
    "                    k_ary_encodings[d,b] = 0\n",
    "            else:\n",
    "                pass\n",
    "            \n",
    "    #aggregate\n",
    "    a_R = (np.e**(eps/2) - 1)/ (np.e**(eps/2) + 1)\n",
    "    b_R = 1/ (np.e**(eps/2) + 1)\n",
    "\n",
    "    #aggregate\n",
    "    histogram = k_ary_encodings.sum(axis=0)\n",
    "    histogram = (histogram - m*(p_flip)) / (a_R)\n",
    "    #histogram\n",
    "    \n",
    "    return histogram"
   ]
  },
  {
   "cell_type": "code",
   "execution_count": 21,
   "id": "7ff0ed65",
   "metadata": {},
   "outputs": [],
   "source": [
    "bins = np.linspace(0,1,k)\n",
    "k_ary_encodings = np.zeros((m, k-1))\n",
    "for d in range(len(data)):\n",
    "    for b in range(len(bins)-1):\n",
    "        #print(b, b+1)\n",
    "        #print(bins[b], bins[b+1])\n",
    "        if (data[d] >= bins[b]) & (data[d] <= bins[b+1]):\n",
    "            k_ary_encodings[d, b] = 1\n",
    "        else:\n",
    "            pass\n",
    "    "
   ]
  },
  {
   "cell_type": "markdown",
   "id": "7096756b",
   "metadata": {},
   "source": [
    "Let's use the data from the previous step, with m=500 data points. As we can see below, for a small privacy budget the bit flippings mess up our counts a lot even after debiasing. "
   ]
  },
  {
   "cell_type": "code",
   "execution_count": 28,
   "id": "270beef7",
   "metadata": {},
   "outputs": [
    {
     "name": "stdout",
     "output_type": "stream",
     "text": [
      "671.0948230914777 values in the LDP histogram\n"
     ]
    }
   ],
   "source": [
    "np.random.seed(42)\n",
    "eps = 1\n",
    "private = locally_private_uniformity(eps=eps, data=data, k=k, alpha=alpha)\n",
    "print(str(private.sum(axis=0)) + \" values in the LDP histogram\")"
   ]
  },
  {
   "cell_type": "markdown",
   "id": "f502d1d7",
   "metadata": {},
   "source": [
    "Below, we check that the distance between the histograms, measured by the l2 norm, is indeed decreasing as the privacy budget increases. The plot below meets the eye test, but we note that at epsilon=1, we have a long way to go before we can even get remotely close to small error.  \n",
    "\n",
    "For this privacy budget, the threshold is basically all noise, and this almost completely unusable even though we've met the required privacy levels. "
   ]
  },
  {
   "cell_type": "code",
   "execution_count": 29,
   "id": "3febc400",
   "metadata": {},
   "outputs": [
    {
     "data": {
      "text/plain": [
       "Text(0, 0.5, 'L2 Distance')"
      ]
     },
     "execution_count": 29,
     "metadata": {},
     "output_type": "execute_result"
    },
    {
     "data": {
      "image/png": "[encoded data removed]",
      "text/plain": [
       "<Figure size 432x288 with 1 Axes>"
      ]
     },
     "metadata": {
      "needs_background": "light"
     },
     "output_type": "display_data"
    }
   ],
   "source": [
    "import matplotlib.pyplot as plt\n",
    "\n",
    "eps_grid = np.linspace(0.01, 20, 20)\n",
    "\n",
    "for e in eps_grid:\n",
    "    private = locally_private_uniformity(eps=e, data=data, k=k, alpha=alpha)\n",
    "    distance = np.linalg.norm(private - k_ary_encodings.sum(axis=0))\n",
    "    plt.scatter(e, np.log(distance))\n",
    "plt.title('L2 Distance Between Private,Original Histogram vs. Epsilon')\n",
    "plt.xlabel('Epsilon')\n",
    "plt.ylabel('L2 Distance')"
   ]
  },
  {
   "cell_type": "code",
   "execution_count": 10,
   "id": "8418ffc2",
   "metadata": {},
   "outputs": [],
   "source": [
    "eps = 1\n",
    "a_R = (np.e**(eps/2) - 1)/ (np.e**(eps/2) + 1)\n",
    "b_R = 1/ (np.e**(eps/2) + 1)\n",
    "\n",
    "t_u_vals = (private - (m -1)*(a_R/k + b_R))**2 - private\n",
    "t_u_vals += k * (m-1)*(a_R/k + b_R)**2\n",
    "t_u_rappor = np.sum(t_u_vals)"
   ]
  },
  {
   "cell_type": "code",
   "execution_count": 11,
   "id": "b2571099",
   "metadata": {},
   "outputs": [
    {
     "name": "stdout",
     "output_type": "stream",
     "text": [
      "565830.0367119259 1388.888888888889 83.14608457115943\n"
     ]
    }
   ],
   "source": [
    "alpha = 1/3\n",
    "thresh = m * (m-1) * a_R**2 * alpha**2 / k\n",
    "print(t_u_rappor, m**2 * alpha**2 / k, thresh)"
   ]
  },
  {
   "cell_type": "markdown",
   "id": "3dd7ffb9",
   "metadata": {},
   "source": [
    "The scaling on the local model motivates the shuffle mechanism. We can solve for the required privacy budget using the theorem mentioned below and in the paper. By privacy amplification, this budget will be larger for a fixed local budget, or we can add less noise in the shuffle protocol. "
   ]
  },
  {
   "cell_type": "code",
   "execution_count": 12,
   "id": "4e2b0422",
   "metadata": {},
   "outputs": [],
   "source": [
    "from scipy.optimize import fsolve\n",
    "import random\n",
    "\n",
    "def shuffle_local_randomizer_eps(n=100):\n",
    "    #Thm 3.1 of https://arxiv.org/pdf/2012.12803.pdf\n",
    "\n",
    "    #define constants to clean up polynomial for root-finding\n",
    "    #we do not define eps here because we solve for eps = ln(...)\n",
    "    #so for eps=1, the inside ... equals e^1\n",
    "\n",
    "    delta = 10**(-5)\n",
    "    a = np.log(4/delta)\n",
    "    k = (np.e - 1)/8\n",
    "    \n",
    "\n",
    "    f = lambda x: np.sqrt(a/n) * x**(3/2) + x**2 / n - np.sqrt(a/n) * x**(1/2) - x/n - k*x - k\n",
    "\n",
    "    #this function is a weird artifact of having to give fsolve a good starting guess\n",
    "    #the rootfinder will get lost if we don't help it out\n",
    "    init_guess_start = 2**(np.log(n) - 4)\n",
    "\n",
    "    x_val = np.max(fsolve(f, x0=[init_guess_start,100]))\n",
    "    eps_0 = np.log(x_val)\n",
    "\n",
    "    return eps_0"
   ]
  },
  {
   "cell_type": "code",
   "execution_count": 13,
   "id": "dd4184c8",
   "metadata": {},
   "outputs": [],
   "source": [
    "n_vec = np.arange(100,20000, 500)\n",
    "local_epsilons = [shuffle_local_randomizer_eps(n=n_vec[i]) for i in range(len(n_vec))]"
   ]
  },
  {
   "cell_type": "code",
   "execution_count": 14,
   "id": "219bea03",
   "metadata": {},
   "outputs": [
    {
     "data": {
      "text/plain": [
       "Text(0, 0.5, '$\\\\epsilon_0$')"
      ]
     },
     "execution_count": 14,
     "metadata": {},
     "output_type": "execute_result"
    },
    {
     "data": {
      "image/png": "[encoded data removed]",
      "text/plain": [
       "<Figure size 432x288 with 1 Axes>"
      ]
     },
     "metadata": {
      "needs_background": "light"
     },
     "output_type": "display_data"
    }
   ],
   "source": [
    "plt.plot(n_vec, local_epsilons)\n",
    "plt.title(r'How the local randomizer $\\epsilon_0$ for Shuffle varies fixed $\\epsilon=1$')\n",
    "plt.xlabel('Sample Size')\n",
    "plt.ylabel(r'$\\epsilon_0$')"
   ]
  },
  {
   "cell_type": "code",
   "execution_count": null,
   "id": "3f665e2f",
   "metadata": {},
   "outputs": [],
   "source": []
  }
 ],
 "metadata": {
  "kernelspec": {
   "display_name": "Python 3 (ipykernel)",
   "language": "python",
   "name": "python3"
  },
  "language_info": {
   "codemirror_mode": {
    "name": "ipython",
    "version": 3
   },
   "file_extension": ".py",
   "mimetype": "text/x-python",
   "name": "python",
   "nbconvert_exporter": "python",
   "pygments_lexer": "ipython3",
   "version": "3.8.11"
  }
 },
 "nbformat": 4,
 "nbformat_minor": 5
}
