{
 "cells": [
  {
   "cell_type": "code",
   "execution_count": 39,
   "id": "fc8d186b",
   "metadata": {},
   "outputs": [],
   "source": [
    "import numpy as np\n",
    "import matplotlib.pyplot as plt\n",
    "from scipy.stats import poisson\n",
    "from sklearn.utils import resample\n",
    "\n",
    "def pan_private_uniformity(eps, data, k, alpha):\n",
    "    #k = 20\n",
    "    bins = np.linspace(0,1,k)\n",
    "    m_prime = poisson.rvs(mu=m, size=1)\n",
    "    #print('m_prime is: ' + str(m_prime))\n",
    "    data_poissoned = resample(data, replace=True, n_samples=m_prime.item())\n",
    "    \n",
    "    #add normal noise here if you want to test the non-uniform case\n",
    "    #normal_noise = np.random.normal(loc=0.0, scale=5.0, size = k-1)\n",
    "\n",
    "    histogram = np.random.laplace(loc=0.0, scale=1/eps, size = k-1)\n",
    "    histogram += np.histogram(a=data_poissoned,bins=bins)[0]\n",
    "    histogram += np.random.laplace(loc=0.0, scale=1/eps, size = k-1)\n",
    "    #histogram += normal_noise\n",
    "\n",
    "    z_prime = np.sum(((histogram - m/k)**2 - histogram) / (m/k))\n",
    "\n",
    "    \n",
    "    t_u = 1/100 * alpha**2 * m + 4*(k**2)/(eps**2 * m) + 24*np.sqrt(2) * (k**(3/2)) / (eps**2 * m)\n",
    "    t_u += 16*np.sqrt(2) * k /(eps*np.sqrt(m)) + 8*np.sqrt(2)*(k**(3/2)) / (eps*m)\n",
    "    \n",
    "    return z_prime, t_u"
   ]
  },
  {
   "cell_type": "markdown",
   "id": "bd906b90",
   "metadata": {},
   "source": [
    "As we note in the paper, the Laplaced chi-square statistic has huge variance! We can see below that even if we meet the required sample complexity, we aren't guaranteed to get a consistently \"good\" answer. Though the variance does seem to decay with larger n, even in log form, this may not be particularly useful for actual hypothesis testing. We may need even larger samples to begin to see consistency. "
   ]
  },
  {
   "cell_type": "code",
   "execution_count": 67,
   "id": "b85203dd",
   "metadata": {},
   "outputs": [
    {
     "name": "stdout",
     "output_type": "stream",
     "text": [
      "0.685 not-uniform\n"
     ]
    }
   ],
   "source": [
    "eps = 1\n",
    "m = 500 \n",
    "k = 20\n",
    "data = np.random.uniform(0,1,m)\n",
    "alpha = 1/2\n",
    "\n",
    "num_experiments = 1000\n",
    "count = 0\n",
    "for experiment in range(num_experiments):\n",
    "    z_prime, t_u = pan_private_uniformity(1, data=data, k=k, alpha=alpha)\n",
    "    #print(z_prime, t_u)\n",
    "    if z_prime > t_u:\n",
    "        count += 1\n",
    "    else:\n",
    "        pass\n",
    "print(str(count / num_experiments) + ' not-uniform')"
   ]
  },
  {
   "cell_type": "code",
   "execution_count": 68,
   "id": "242caab7",
   "metadata": {},
   "outputs": [
    {
     "name": "stdout",
     "output_type": "stream",
     "text": [
      "36.80337600006183\n"
     ]
    }
   ],
   "source": [
    "#sample complexity\n",
    "print(k**(3/4)/ (alpha*eps) + np.sqrt(k)/alpha**2)"
   ]
  },
  {
   "cell_type": "code",
   "execution_count": 69,
   "id": "72d23ad4",
   "metadata": {},
   "outputs": [],
   "source": [
    "variance_list = []\n",
    "num_experiments = 200\n",
    "for size in np.arange(10,1000,10):\n",
    "    z_prime_list = []\n",
    "    for experiment in range(num_experiments):\n",
    "        z_prime, t_u = pan_private_uniformity(1, data=np.random.uniform(0,1,size), k=k, alpha=alpha)\n",
    "        z_prime_list.append(z_prime)\n",
    "        \n",
    "    variance_list.append(np.var(z_prime_list))"
   ]
  },
  {
   "cell_type": "code",
   "execution_count": 70,
   "id": "b064f73b",
   "metadata": {},
   "outputs": [
    {
     "data": {
      "text/plain": [
       "[<matplotlib.lines.Line2D at 0x7f8071186c70>]"
      ]
     },
     "execution_count": 70,
     "metadata": {},
     "output_type": "execute_result"
    },
    {
     "data": {
      "image/png": "[encoded data removed]",
      "text/plain": [
       "<Figure size 432x288 with 1 Axes>"
      ]
     },
     "metadata": {
      "needs_background": "light"
     },
     "output_type": "display_data"
    }
   ],
   "source": [
    "plt.plot(np.arange(10,1000,10), np.log(variance_list))"
   ]
  },
  {
   "cell_type": "markdown",
   "id": "d7a79b23",
   "metadata": {},
   "source": [
    "### RAPPOR: Encode, Perturb, Aggregate"
   ]
  },
  {
   "cell_type": "code",
   "execution_count": 71,
   "id": "9ef714e6",
   "metadata": {},
   "outputs": [],
   "source": [
    "def locally_private_uniformity(eps, data, k, alpha):\n",
    "    #encode\n",
    "    bins = np.linspace(0,1,k)\n",
    "    k_ary_encodings = np.zeros((m, k-1))\n",
    "    for d in range(len(data)):\n",
    "        for b in range(len(bins)-1):\n",
    "            #print(b, b+1)\n",
    "            #print(bins[b], bins[b+1])\n",
    "            if (data[d] >= bins[b]) & (data[d] <= bins[b+1]):\n",
    "                k_ary_encodings[d, b] = 1\n",
    "            else:\n",
    "                pass\n",
    "    \n",
    "    #perturb\n",
    "    perturb_matrix = np.random.uniform(0,1,size=(m,k-1))\n",
    "    p_flip = 1 / (np.e**(eps/2)+1 )\n",
    "\n",
    "    for d in range(len(data)):\n",
    "        for b in range(len(bins)-1):\n",
    "            if perturb_matrix[d,b] < p_flip:\n",
    "                if k_ary_encodings[d,b] == 0:\n",
    "                    k_ary_encodings[d,b] = 1\n",
    "                elif k_ary_encodings[d,b] == 1:\n",
    "                    k_ary_encodings[d,b] = 0\n",
    "            else:\n",
    "                pass\n",
    "            \n",
    "    #aggregate\n",
    "    a_R = (np.e**(eps/2) - 1)/ (np.e**(eps/2) + 1)\n",
    "    b_R = 1/ (np.e**(eps/2) + 1)\n",
    "\n",
    "    #aggregate\n",
    "    histogram = k_ary_encodings.sum(axis=0)\n",
    "    histogram = (histogram - m*(p_flip)) / (a_R)\n",
    "    #histogram\n",
    "    \n",
    "    return histogram"
   ]
  },
  {
   "cell_type": "code",
   "execution_count": 72,
   "id": "e676d286",
   "metadata": {},
   "outputs": [],
   "source": [
    "bins = np.linspace(0,1,k)\n",
    "k_ary_encodings = np.zeros((m, k-1))\n",
    "for d in range(len(data)):\n",
    "    for b in range(len(bins)-1):\n",
    "        #print(b, b+1)\n",
    "        #print(bins[b], bins[b+1])\n",
    "        if (data[d] >= bins[b]) & (data[d] <= bins[b+1]):\n",
    "            k_ary_encodings[d, b] = 1\n",
    "        else:\n",
    "            pass\n",
    "    "
   ]
  },
  {
   "cell_type": "code",
   "execution_count": 73,
   "id": "bf409ec7",
   "metadata": {},
   "outputs": [
    {
     "name": "stdout",
     "output_type": "stream",
     "text": [
      "364.8707107109579\n"
     ]
    }
   ],
   "source": [
    "eps = 1\n",
    "private = locally_private_uniformity(eps=eps, data=data, k=k, alpha=alpha)\n",
    "print(private.sum(axis=0))"
   ]
  },
  {
   "cell_type": "markdown",
   "id": "a92d0c73",
   "metadata": {},
   "source": [
    "Below, we check that the distance between the histograms, measured by the l2 norm, is indeed decreasing as the privacy budget increases. The plot below meets the eye test, but we note that at epsilon=1, we have a long way to go before we can even get remotely close to small error.  "
   ]
  },
  {
   "cell_type": "code",
   "execution_count": 75,
   "id": "9476c619",
   "metadata": {},
   "outputs": [
    {
     "data": {
      "text/plain": [
       "Text(0, 0.5, 'L2 Distance')"
      ]
     },
     "execution_count": 75,
     "metadata": {},
     "output_type": "execute_result"
    },
    {
     "data": {
      "image/png": "[encoded data removed]",
      "text/plain": [
       "<Figure size 432x288 with 1 Axes>"
      ]
     },
     "metadata": {
      "needs_background": "light"
     },
     "output_type": "display_data"
    }
   ],
   "source": [
    "import matplotlib.pyplot as plt\n",
    "\n",
    "eps_grid = np.linspace(0.01, 20, 20)\n",
    "\n",
    "for e in eps_grid:\n",
    "    private = locally_private_uniformity(eps=e, data=data, k=k, alpha=alpha)\n",
    "    distance = np.linalg.norm(private - k_ary_encodings.sum(axis=0))\n",
    "    plt.scatter(e, np.log(distance))\n",
    "plt.title('L2 Distance Between Private,Original Histogram vs. Epsilon')\n",
    "plt.xlabel('Epsilon')\n",
    "plt.ylabel('L2 Distance')"
   ]
  },
  {
   "cell_type": "code",
   "execution_count": 80,
   "id": "c6da0d67",
   "metadata": {},
   "outputs": [],
   "source": [
    "eps = 1\n",
    "a_R = (np.e**(eps/2) - 1)/ (np.e**(eps/2) + 1)\n",
    "b_R = 1/ (np.e**(eps/2) + 1)\n",
    "\n",
    "t_u_vals = (private - (m -1)*(a_R/k + b_R))**2 - private\n",
    "t_u_vals += k * (m-1)*(a_R/k + b_R)**2\n",
    "t_u_rappor = np.sum(t_u_vals)"
   ]
  },
  {
   "cell_type": "code",
   "execution_count": 81,
   "id": "a2e2cf03",
   "metadata": {},
   "outputs": [
    {
     "name": "stdout",
     "output_type": "stream",
     "text": [
      "566837.2366181464 1388.888888888889 83.14608457115943\n"
     ]
    }
   ],
   "source": [
    "alpha = 1/3\n",
    "thresh = m * (m-1) * a_R**2 * alpha**2 / k\n",
    "print(t_u_rappor, m**2 * alpha**2 / k, thresh)"
   ]
  },
  {
   "cell_type": "code",
   "execution_count": null,
   "id": "137c2ef6",
   "metadata": {},
   "outputs": [],
   "source": []
  }
 ],
 "metadata": {
  "kernelspec": {
   "display_name": "Python 3 (ipykernel)",
   "language": "python",
   "name": "python3"
  },
  "language_info": {
   "codemirror_mode": {
    "name": "ipython",
    "version": 3
   },
   "file_extension": ".py",
   "mimetype": "text/x-python",
   "name": "python",
   "nbconvert_exporter": "python",
   "pygments_lexer": "ipython3",
   "version": "3.8.11"
  }
 },
 "nbformat": 4,
 "nbformat_minor": 5
}
